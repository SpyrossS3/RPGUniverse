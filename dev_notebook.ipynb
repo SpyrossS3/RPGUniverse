{
 "cells": [
  {
   "attachments": {},
   "cell_type": "markdown",
   "metadata": {},
   "source": [
    "# The Official RPG Universe Development Notebook\n",
    "\n",
    "All details and information regarding the project's development is going to be found here!\n",
    "\n",
    "## The Dev Plan:\n",
    "\n",
    "- Set up the game's start menu/\"Main Menu\"\n",
    "- Create the How-to-play menu option\n",
    "- Set the File IO process for creating a new character, saving the character, and loading a character (This means adding these things in the menu)\n",
    "- Define character stat calculations\n",
    "- Create the reset option to fully reset the game (as everything is going to be saved in the game even between characters)\n",
    "\n",
    "<br>\n",
    "\n",
    "---"
   ]
  },
  {
   "attachments": {},
   "cell_type": "markdown",
   "metadata": {},
   "source": [
    "## The Main Menu\n",
    "The Main Menu is going to greet the player with a welcome, maybe a fancy ASCII Logo, and then show the options:\n",
    "- Start Game\n",
    "   - New Character\n",
    "   - Load Character\n",
    "   - Back\n",
    "- How to play\n",
    "- Reset Game\n",
    "- Exit"
   ]
  }
 ],
 "metadata": {
  "language_info": {
   "name": "python"
  },
  "orig_nbformat": 4
 },
 "nbformat": 4,
 "nbformat_minor": 2
}
