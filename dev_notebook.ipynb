{
 "cells": [
  {
   "attachments": {},
   "cell_type": "markdown",
   "metadata": {},
   "source": [
    "# The Official RPG Universe Development Notebook\n",
    "\n",
    "All details and information regarding the project's development is going to be found here!\n",
    "\n",
    "## The Dev Plan:\n",
    "\n",
    "- [x] Start setting the Rich library text formatting for the app\n",
    "- [ ] Set up the game's start menu/\"Main Menu\"\n",
    "- [ ] Create the How-to-play menu option\n",
    "- [ ] Set the File IO process for creating a new character, saving the character, and loading a character (This means adding these things in the menu)\n",
    "- [ ] Define character stat calculations\n",
    "- [ ] Create the reset option to fully reset the game (as everything is going to be saved in the game even between characters)\n",
    "- [ ] Then create stat calculations for characters\n",
    "- [ ] Develop the character creation player process\n",
    "- [ ] Design the story, world, and playthrough for the player\n",
    "- [ ] Create a sample quest\n",
    "  - [ ] Add enemies and battles\n",
    "  - [ ] Objectives\n",
    "  - [ ] A choice graph with multiple routes\n",
    "  - [ ] End goal with rewards\n",
    "  - [ ] XP system\n",
    "  - [ ] Possibly more!\n",
    "- [ ] Future goals to be added here...\n",
    "\n",
    "<br>\n",
    "\n",
    "---"
   ]
  },
  {
   "attachments": {},
   "cell_type": "markdown",
   "metadata": {},
   "source": [
    "## Getting Fancy\n",
    "\n",
    "Now, the other extra special detail is making things look nice overall; setting it apart from simple bland text in a terminal. That's where the Python library: Rich, comes in. Rich will make sure things look nice and special like the example below. (The black text background is to make sure you see this text on a black background no matter what as the console application will have a black background.)"
   ]
  },
  {
   "cell_type": "code",
   "execution_count": 24,
   "metadata": {},
   "outputs": [
    {
     "data": {
      "text/html": [
       "<pre style=\"white-space:pre;overflow-x:auto;line-height:normal;font-family:Menlo,'DejaVu Sans Mono',consolas,'Courier New',monospace\"><span style=\"color: #5eff00; text-decoration-color: #5eff00; background-color: #000000; font-weight: bold; text-decoration: underline\">Welcome to RPG Universe, player!</span>\n",
       "</pre>\n"
      ],
      "text/plain": [
       "\u001b[1;4;38;2;94;255;0;40mWelcome to RPG Universe, player!\u001b[0m\n"
      ]
     },
     "metadata": {},
     "output_type": "display_data"
    }
   ],
   "source": [
    "from rich.console import Console\n",
    "from rich.text import Text\n",
    "\n",
    "console = Console()\n",
    "text = Text(\"Welcome to RPG Universe, player!\")\n",
    "text.stylize(\"bold underline #5eff00 on black\")\n",
    "console.print(text)"
   ]
  },
  {
   "attachments": {},
   "cell_type": "markdown",
   "metadata": {},
   "source": [
    "### Color Palette\n",
    "\n",
    "Here we're going to set up the perfect color setup for the game.\n",
    "\n",
    "But first, a side note...\n",
    "\n",
    "#### Color Compatability in Command Prompt\n",
    "\n",
    "I am writing this for DOS-style first, meaning compatibility for a Command Prompt terminal style application. And with that comes some color limitations as Command Prompt only allows 16 colors. There also doesn't seem to be any bold or underline formatting available in Command Prompt, so I may exclude that too.\n",
    "\n",
    "Note that with future additions, I may make a prettier, better formatted form instead of staying with the classic 16 color limit.\n",
    "\n",
    "\n",
    "To ensure I get them just right, I'll post the list of the 16 color RGB and Hex codes here:\n",
    "\n",
    "\n",
    "1. rgb(12, 12, 12), #0c0c0c\n",
    "2. rgb(0, 55, 218), #0037da\n",
    "3. rgb(19, 161, 14), #13a10e\n",
    "4. rgb(58, 150, 221), #3a96dd\n",
    "5. rgb(197, 15, 31), #c50f1f\n",
    "6. rgb(136, 23, 152), #891798\n",
    "7. rgb(193, 136, 0), #c18700\n",
    "8. rgb(204, 204, 204), #cccccc\n",
    "9. rgb(118, 118, 118), #767676\n",
    "10. rgb(59, 120, 255), #3b78ff\n",
    "11. rgb(22, 198, 12), #16c60c\n",
    "12. rgb(97, 214, 214), #61d6d6\n",
    "13. rgb(231, 72, 86), #e74856\n",
    "14. rgb(180, 0, 158), #b4009e\n",
    "15. rgb(249, 241, 165), #f9f1a5\n",
    "16. rgb(242, 242, 242), #f2f2f2"
   ]
  },
  {
   "cell_type": "code",
   "execution_count": 25,
   "metadata": {},
   "outputs": [
    {
     "data": {
      "text/html": [
       "<pre style=\"white-space:pre;overflow-x:auto;line-height:normal;font-family:Menlo,'DejaVu Sans Mono',consolas,'Courier New',monospace\"><span style=\"color: #0c0c0c; text-decoration-color: #0c0c0c; background-color: #c0c0c0; font-weight: bold\">1st Test Color</span>\n",
       "</pre>\n"
      ],
      "text/plain": [
       "\u001b[1;38;2;12;12;12;47m1st Test Color\u001b[0m\n"
      ]
     },
     "metadata": {},
     "output_type": "display_data"
    },
    {
     "data": {
      "text/html": [
       "<pre style=\"white-space:pre;overflow-x:auto;line-height:normal;font-family:Menlo,'DejaVu Sans Mono',consolas,'Courier New',monospace\"><span style=\"color: #0037da; text-decoration-color: #0037da; background-color: #000000; font-weight: bold\">2nd Test Color</span>\n",
       "</pre>\n"
      ],
      "text/plain": [
       "\u001b[1;38;2;0;55;218;40m2nd Test Color\u001b[0m\n"
      ]
     },
     "metadata": {},
     "output_type": "display_data"
    },
    {
     "data": {
      "text/html": [
       "<pre style=\"white-space:pre;overflow-x:auto;line-height:normal;font-family:Menlo,'DejaVu Sans Mono',consolas,'Courier New',monospace\"><span style=\"color: #13a10e; text-decoration-color: #13a10e; background-color: #000000; font-weight: bold\">3rd Test Color</span>\n",
       "</pre>\n"
      ],
      "text/plain": [
       "\u001b[1;38;2;19;161;14;40m3rd Test Color\u001b[0m\n"
      ]
     },
     "metadata": {},
     "output_type": "display_data"
    },
    {
     "data": {
      "text/html": [
       "<pre style=\"white-space:pre;overflow-x:auto;line-height:normal;font-family:Menlo,'DejaVu Sans Mono',consolas,'Courier New',monospace\"><span style=\"color: #3a96dd; text-decoration-color: #3a96dd; background-color: #000000; font-weight: bold\">4th Test Color</span>\n",
       "</pre>\n"
      ],
      "text/plain": [
       "\u001b[1;38;2;58;150;221;40m4th Test Color\u001b[0m\n"
      ]
     },
     "metadata": {},
     "output_type": "display_data"
    },
    {
     "data": {
      "text/html": [
       "<pre style=\"white-space:pre;overflow-x:auto;line-height:normal;font-family:Menlo,'DejaVu Sans Mono',consolas,'Courier New',monospace\"><span style=\"color: #c50f1f; text-decoration-color: #c50f1f; background-color: #000000; font-weight: bold\">5th Test Color</span>\n",
       "</pre>\n"
      ],
      "text/plain": [
       "\u001b[1;38;2;197;15;31;40m5th Test Color\u001b[0m\n"
      ]
     },
     "metadata": {},
     "output_type": "display_data"
    },
    {
     "data": {
      "text/html": [
       "<pre style=\"white-space:pre;overflow-x:auto;line-height:normal;font-family:Menlo,'DejaVu Sans Mono',consolas,'Courier New',monospace\"><span style=\"color: #891798; text-decoration-color: #891798; background-color: #000000; font-weight: bold\">6th Test Color</span>\n",
       "</pre>\n"
      ],
      "text/plain": [
       "\u001b[1;38;2;137;23;152;40m6th Test Color\u001b[0m\n"
      ]
     },
     "metadata": {},
     "output_type": "display_data"
    },
    {
     "data": {
      "text/html": [
       "<pre style=\"white-space:pre;overflow-x:auto;line-height:normal;font-family:Menlo,'DejaVu Sans Mono',consolas,'Courier New',monospace\"><span style=\"color: #c18700; text-decoration-color: #c18700; background-color: #000000; font-weight: bold\">7th Test Color</span>\n",
       "</pre>\n"
      ],
      "text/plain": [
       "\u001b[1;38;2;193;135;0;40m7th Test Color\u001b[0m\n"
      ]
     },
     "metadata": {},
     "output_type": "display_data"
    },
    {
     "data": {
      "text/html": [
       "<pre style=\"white-space:pre;overflow-x:auto;line-height:normal;font-family:Menlo,'DejaVu Sans Mono',consolas,'Courier New',monospace\"><span style=\"color: #cccccc; text-decoration-color: #cccccc; background-color: #000000; font-weight: bold\">8th Test Color</span>\n",
       "</pre>\n"
      ],
      "text/plain": [
       "\u001b[1;38;2;204;204;204;40m8th Test Color\u001b[0m\n"
      ]
     },
     "metadata": {},
     "output_type": "display_data"
    },
    {
     "data": {
      "text/html": [
       "<pre style=\"white-space:pre;overflow-x:auto;line-height:normal;font-family:Menlo,'DejaVu Sans Mono',consolas,'Courier New',monospace\"><span style=\"color: #767676; text-decoration-color: #767676; background-color: #000000; font-weight: bold\">9th Test Color</span>\n",
       "</pre>\n"
      ],
      "text/plain": [
       "\u001b[1;38;2;118;118;118;40m9th Test Color\u001b[0m\n"
      ]
     },
     "metadata": {},
     "output_type": "display_data"
    },
    {
     "data": {
      "text/html": [
       "<pre style=\"white-space:pre;overflow-x:auto;line-height:normal;font-family:Menlo,'DejaVu Sans Mono',consolas,'Courier New',monospace\"><span style=\"color: #3b78ff; text-decoration-color: #3b78ff; background-color: #000000; font-weight: bold\">10th Test Color</span>\n",
       "</pre>\n"
      ],
      "text/plain": [
       "\u001b[1;38;2;59;120;255;40m10th Test Color\u001b[0m\n"
      ]
     },
     "metadata": {},
     "output_type": "display_data"
    },
    {
     "data": {
      "text/html": [
       "<pre style=\"white-space:pre;overflow-x:auto;line-height:normal;font-family:Menlo,'DejaVu Sans Mono',consolas,'Courier New',monospace\"><span style=\"color: #16c60c; text-decoration-color: #16c60c; background-color: #000000; font-weight: bold\">11th Test Color</span>\n",
       "</pre>\n"
      ],
      "text/plain": [
       "\u001b[1;38;2;22;198;12;40m11th Test Color\u001b[0m\n"
      ]
     },
     "metadata": {},
     "output_type": "display_data"
    },
    {
     "data": {
      "text/html": [
       "<pre style=\"white-space:pre;overflow-x:auto;line-height:normal;font-family:Menlo,'DejaVu Sans Mono',consolas,'Courier New',monospace\"><span style=\"color: #61d6d6; text-decoration-color: #61d6d6; background-color: #000000; font-weight: bold\">12th Test Color</span>\n",
       "</pre>\n"
      ],
      "text/plain": [
       "\u001b[1;38;2;97;214;214;40m12th Test Color\u001b[0m\n"
      ]
     },
     "metadata": {},
     "output_type": "display_data"
    },
    {
     "data": {
      "text/html": [
       "<pre style=\"white-space:pre;overflow-x:auto;line-height:normal;font-family:Menlo,'DejaVu Sans Mono',consolas,'Courier New',monospace\"><span style=\"color: #e74856; text-decoration-color: #e74856; background-color: #000000; font-weight: bold\">13th Test Color</span>\n",
       "</pre>\n"
      ],
      "text/plain": [
       "\u001b[1;38;2;231;72;86;40m13th Test Color\u001b[0m\n"
      ]
     },
     "metadata": {},
     "output_type": "display_data"
    },
    {
     "data": {
      "text/html": [
       "<pre style=\"white-space:pre;overflow-x:auto;line-height:normal;font-family:Menlo,'DejaVu Sans Mono',consolas,'Courier New',monospace\"><span style=\"color: #b4009e; text-decoration-color: #b4009e; background-color: #000000; font-weight: bold\">14th Test Color</span>\n",
       "</pre>\n"
      ],
      "text/plain": [
       "\u001b[1;38;2;180;0;158;40m14th Test Color\u001b[0m\n"
      ]
     },
     "metadata": {},
     "output_type": "display_data"
    },
    {
     "data": {
      "text/html": [
       "<pre style=\"white-space:pre;overflow-x:auto;line-height:normal;font-family:Menlo,'DejaVu Sans Mono',consolas,'Courier New',monospace\"><span style=\"color: #f9f1a5; text-decoration-color: #f9f1a5; background-color: #000000; font-weight: bold\">15th Test Color</span>\n",
       "</pre>\n"
      ],
      "text/plain": [
       "\u001b[1;38;2;249;241;165;40m15th Test Color\u001b[0m\n"
      ]
     },
     "metadata": {},
     "output_type": "display_data"
    },
    {
     "data": {
      "text/html": [
       "<pre style=\"white-space:pre;overflow-x:auto;line-height:normal;font-family:Menlo,'DejaVu Sans Mono',consolas,'Courier New',monospace\"><span style=\"color: #f2f2f2; text-decoration-color: #f2f2f2; background-color: #000000; font-weight: bold\">16th Test Color</span>\n",
       "</pre>\n"
      ],
      "text/plain": [
       "\u001b[1;38;2;242;242;242;40m16th Test Color\u001b[0m\n"
      ]
     },
     "metadata": {},
     "output_type": "display_data"
    }
   ],
   "source": [
    "#First color\n",
    "text = Text(\"1st Test Color\")\n",
    "text.stylize(\"bold #0c0c0c on white\")\n",
    "console.print(text)\n",
    "#Second color\n",
    "text = Text(\"2nd Test Color\")\n",
    "text.stylize(\"bold #0037da on black\")\n",
    "console.print(text)\n",
    "#Third color\n",
    "text = Text(\"3rd Test Color\")\n",
    "text.stylize(\"bold #13a10e on black\")\n",
    "console.print(text)\n",
    "#Fourth color\n",
    "text = Text(\"4th Test Color\")\n",
    "text.stylize(\"bold #3a96dd on black\")\n",
    "console.print(text)\n",
    "#Fifth color\n",
    "text = Text(\"5th Test Color\")\n",
    "text.stylize(\"bold #c50f1f on black\")\n",
    "console.print(text)\n",
    "#Sixth color\n",
    "text = Text(\"6th Test Color\")\n",
    "text.stylize(\"bold #891798 on black\")\n",
    "console.print(text)\n",
    "#Seventh color\n",
    "text = Text(\"7th Test Color\")\n",
    "text.stylize(\"bold #c18700 on black\")\n",
    "console.print(text)\n",
    "#Eighth color\n",
    "text = Text(\"8th Test Color\")\n",
    "text.stylize(\"bold #cccccc on black\")\n",
    "console.print(text)\n",
    "#Ninth color\n",
    "text = Text(\"9th Test Color\")\n",
    "text.stylize(\"bold #767676 on black\")\n",
    "console.print(text)\n",
    "#Tenth color\n",
    "text = Text(\"10th Test Color\")\n",
    "text.stylize(\"bold #3b78ff on black\")\n",
    "console.print(text)\n",
    "#Eleventh color\n",
    "text = Text(\"11th Test Color\")\n",
    "text.stylize(\"bold #16c60c on black\")\n",
    "console.print(text)\n",
    "#Twelfth color\n",
    "text = Text(\"12th Test Color\")\n",
    "text.stylize(\"bold #61d6d6 on black\")\n",
    "console.print(text)\n",
    "#Thirteenth color\n",
    "text = Text(\"13th Test Color\")\n",
    "text.stylize(\"bold #e74856 on black\")\n",
    "console.print(text)\n",
    "#Fourteenth color\n",
    "text = Text(\"14th Test Color\")\n",
    "text.stylize(\"bold #b4009e on black\")\n",
    "console.print(text)\n",
    "#Fifteenth color\n",
    "text = Text(\"15th Test Color\")\n",
    "text.stylize(\"bold #f9f1a5 on black\")\n",
    "console.print(text)\n",
    "#Sixteenth color\n",
    "text = Text(\"16th Test Color\")\n",
    "text.stylize(\"bold #f2f2f2 on black\")\n",
    "console.print(text)"
   ]
  },
  {
   "attachments": {},
   "cell_type": "markdown",
   "metadata": {},
   "source": [
    "#### Game Theme\n",
    "\n",
    "Now to add the actual game theme in accordance with DOS colors:"
   ]
  },
  {
   "cell_type": "code",
   "execution_count": 26,
   "metadata": {},
   "outputs": [
    {
     "data": {
      "text/html": [
       "<pre style=\"white-space:pre;overflow-x:auto;line-height:normal;font-family:Menlo,'DejaVu Sans Mono',consolas,'Courier New',monospace\"><span style=\"color: #16c60c; text-decoration-color: #16c60c; background-color: #000000; font-weight: bold\">====================================================Title Text=====================================================</span>\n",
       "</pre>\n"
      ],
      "text/plain": [
       "\u001b[1;38;2;22;198;12;40m====================================================Title Text=====================================================\u001b[0m\n"
      ]
     },
     "metadata": {},
     "output_type": "display_data"
    },
    {
     "data": {
      "text/html": [
       "<pre style=\"white-space:pre;overflow-x:auto;line-height:normal;font-family:Menlo,'DejaVu Sans Mono',consolas,'Courier New',monospace\"><span style=\"color: #3a96dd; text-decoration-color: #3a96dd; background-color: #000000\">Informational text that one should know for the better use of objects, items, gameplay, and so on. It is very </span>\n",
       "<span style=\"color: #3a96dd; text-decoration-color: #3a96dd; background-color: #000000\">important you read this entire highly informative set of information. This very important information will enable </span>\n",
       "<span style=\"color: #3a96dd; text-decoration-color: #3a96dd; background-color: #000000\">you to play the entire game better and thus is essential to your already set knowledge held within your mind.</span>\n",
       "</pre>\n"
      ],
      "text/plain": [
       "\u001b[38;2;58;150;221;40mInformational text that one should know for the better use of objects, items, gameplay, and so on. It is very \u001b[0m\n",
       "\u001b[38;2;58;150;221;40mimportant you read this entire highly informative set of information. This very important information will enable \u001b[0m\n",
       "\u001b[38;2;58;150;221;40myou to play the entire game better and thus is essential to your already set knowledge held within your mind.\u001b[0m\n"
      ]
     },
     "metadata": {},
     "output_type": "display_data"
    },
    {
     "data": {
      "text/html": [
       "<pre style=\"white-space:pre;overflow-x:auto;line-height:normal;font-family:Menlo,'DejaVu Sans Mono',consolas,'Courier New',monospace\"><span style=\"color: #f9f1a5; text-decoration-color: #f9f1a5; background-color: #000000\">-----------------------------------------------------&lt;Select&gt;------------------------------------------------------</span>\n",
       "</pre>\n"
      ],
      "text/plain": [
       "\u001b[38;2;249;241;165;40m-----------------------------------------------------<Select>------------------------------------------------------\u001b[0m\n"
      ]
     },
     "metadata": {},
     "output_type": "display_data"
    },
    {
     "data": {
      "text/html": [
       "<pre style=\"white-space:pre;overflow-x:auto;line-height:normal;font-family:Menlo,'DejaVu Sans Mono',consolas,'Courier New',monospace\"><span style=\"color: #f9f1a5; text-decoration-color: #f9f1a5; background-color: #000000\">---------------------------------------------------&lt;How to play&gt;---------------------------------------------------</span>\n",
       "</pre>\n"
      ],
      "text/plain": [
       "\u001b[38;2;249;241;165;40m---------------------------------------------------<How to play>---------------------------------------------------\u001b[0m\n"
      ]
     },
     "metadata": {},
     "output_type": "display_data"
    },
    {
     "data": {
      "text/html": [
       "<pre style=\"white-space:pre;overflow-x:auto;line-height:normal;font-family:Menlo,'DejaVu Sans Mono',consolas,'Courier New',monospace\"><span style=\"color: #f9f1a5; text-decoration-color: #f9f1a5; background-color: #000000\">------------------------------------------------------&lt;Start&gt;------------------------------------------------------</span>\n",
       "</pre>\n"
      ],
      "text/plain": [
       "\u001b[38;2;249;241;165;40m------------------------------------------------------<Start>------------------------------------------------------\u001b[0m\n"
      ]
     },
     "metadata": {},
     "output_type": "display_data"
    }
   ],
   "source": [
    "from rich.theme import Theme\n",
    "\n",
    "game_theme = Theme({\n",
    "    \"title\": \"bold #16c60c on black\",\n",
    "    \"info\": \"#3a96dd on black\",\n",
    "    \"options\": \"#f9f1a5 on black\"\n",
    "})\n",
    "\n",
    "console = Console(theme=game_theme)\n",
    "\n",
    "#Title text on menus and so on\n",
    "title = Text(\"Title Text\", style=\"title\")\n",
    "title.align(\"center\", 115, \"=\")\n",
    "console.print(title)\n",
    "\n",
    "#Regular informational text\n",
    "console.print(\"Informational text that one should know for the better use of objects, items, gameplay, and so on. It is very important you read this entire highly informative set of information. This very important information will enable you to play the entire game better and thus is essential to your already set knowledge held within your mind.\", style=\"info\")\n",
    "\n",
    "#Menu options\n",
    "#(Find a way to have them not have an extra line between each other if possible)\n",
    "optext = Text(\"<Select>\", style=\"options\")\n",
    "optext.align(\"center\", 115, \"-\")\n",
    "console.print(optext)\n",
    "optext = Text(\"<How to play>\", style=\"options\")\n",
    "optext.align(\"center\", 115, \"-\")\n",
    "console.print(optext)\n",
    "optext = Text(\"<Start>\", style=\"options\")\n",
    "optext.align(\"center\", 115, \"-\")\n",
    "console.print(optext)"
   ]
  },
  {
   "attachments": {},
   "cell_type": "markdown",
   "metadata": {},
   "source": [
    "## The Main Menu\n",
    "The Main Menu is going to greet the player with a welcome, maybe a fancy ASCII Logo, and then show the options:\n",
    "- Start Game\n",
    "   - New Character\n",
    "   - Load Character\n",
    "   - Back\n",
    "- How to play\n",
    "- Reset Game\n",
    "- Exit\n",
    "\n",
    "### The Logistics\n",
    "I need a class definition for the menu, as well as the game, so I'll start with that. \n",
    "\n",
    "Now, for the class itself, the process is that upon starting the game, you're greeted with the opening start screen and game main menu (As defined above), so the steps are:\n",
    "\n",
    "1. Greeting and menu text is printed out\n",
    "2. Input is asked for a menu option\n",
    "3. A menu option is inputted and chosen"
   ]
  }
 ],
 "metadata": {
  "kernelspec": {
   "display_name": "Python 3",
   "language": "python",
   "name": "python3"
  },
  "language_info": {
   "codemirror_mode": {
    "name": "ipython",
    "version": 3
   },
   "file_extension": ".py",
   "mimetype": "text/x-python",
   "name": "python",
   "nbconvert_exporter": "python",
   "pygments_lexer": "ipython3",
   "version": "3.11.3"
  },
  "orig_nbformat": 4
 },
 "nbformat": 4,
 "nbformat_minor": 2
}
