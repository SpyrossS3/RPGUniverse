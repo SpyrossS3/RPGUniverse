{
 "cells": [
  {
   "attachments": {},
   "cell_type": "markdown",
   "metadata": {},
   "source": [
    "# The Official RPG Universe Development Notebook\n",
    "\n",
    "All details and information regarding the project's development is going to be found here!\n",
    "\n",
    "## The Dev Plan:\n",
    "\n",
    "- Set up the game's start menu/\"Main Menu\"\n",
    "- Create the How-to-play menu option\n",
    "- Set the File IO process for creating a new character, saving the character, and loading a character (This means adding these things in the menu)\n",
    "- Define character stat calculations\n",
    "- Create the reset option to fully reset the game (as everything is going to be saved in the game even between characters)\n",
    "\n",
    "<br>\n",
    "\n",
    "---"
   ]
  },
  {
   "attachments": {},
   "cell_type": "markdown",
   "metadata": {},
   "source": [
    "## Getting Fancy\n",
    "\n",
    "Now, the other extra special detail is making things look nice overall; setting it apart from simple bland text in a terminal. That's where the Python library: Rich, comes in. Rich will make sure things look nice and special like the example below."
   ]
  },
  {
   "cell_type": "code",
   "execution_count": 1,
   "metadata": {},
   "outputs": [
    {
     "data": {
      "text/html": [
       "<pre style=\"white-space:pre;overflow-x:auto;line-height:normal;font-family:Menlo,'DejaVu Sans Mono',consolas,'Courier New',monospace\"><span style=\"color: #5eff00; text-decoration-color: #5eff00; font-weight: bold; text-decoration: underline\">Welcome to RPG Universe, player!</span>\n",
       "</pre>\n"
      ],
      "text/plain": [
       "\u001b[1;4;38;2;94;255;0mWelcome to RPG Universe, player!\u001b[0m\n"
      ]
     },
     "metadata": {},
     "output_type": "display_data"
    }
   ],
   "source": [
    "from rich.console import Console\n",
    "from rich.text import Text\n",
    "\n",
    "console = Console()\n",
    "text = Text(\"Welcome to RPG Universe, player!\")\n",
    "text.stylize(\"bold underline #5eff00\")\n",
    "console.print(text)"
   ]
  },
  {
   "attachments": {},
   "cell_type": "markdown",
   "metadata": {},
   "source": [
    "## The Main Menu\n",
    "The Main Menu is going to greet the player with a welcome, maybe a fancy ASCII Logo, and then show the options:\n",
    "- Start Game\n",
    "   - New Character\n",
    "   - Load Character\n",
    "   - Back\n",
    "- How to play\n",
    "- Reset Game\n",
    "- Exit"
   ]
  }
 ],
 "metadata": {
  "kernelspec": {
   "display_name": "Python 3",
   "language": "python",
   "name": "python3"
  },
  "language_info": {
   "codemirror_mode": {
    "name": "ipython",
    "version": 3
   },
   "file_extension": ".py",
   "mimetype": "text/x-python",
   "name": "python",
   "nbconvert_exporter": "python",
   "pygments_lexer": "ipython3",
   "version": "3.11.3"
  },
  "orig_nbformat": 4
 },
 "nbformat": 4,
 "nbformat_minor": 2
}
